{
 "cells": [
  {
   "cell_type": "code",
   "execution_count": 1,
   "metadata": {},
   "outputs": [],
   "source": [
    "from tkinter import *\n",
    "import math"
   ]
  },
  {
   "cell_type": "code",
   "execution_count": 2,
   "metadata": {},
   "outputs": [],
   "source": [
    "calc = Tk()\n",
    "calc.title(\"Calculator\")\n",
    "calc.geometry(\"490x500\")\n",
    "calc.resizable(False, False)\n",
    "calc.config(bg=\"black\")\n",
    "value = \"\""
   ]
  },
  {
   "cell_type": "code",
   "execution_count": 3,
   "metadata": {},
   "outputs": [],
   "source": [
    "display = Label(calc, height=5, width = 70, text=\"\") \n",
    "display.pack()"
   ]
  },
  {
   "cell_type": "code",
   "execution_count": 4,
   "metadata": {},
   "outputs": [],
   "source": [
    "def showInput(val): \n",
    "   global value\n",
    "   define=['+','-','*','/']\n",
    "   value+=val\n",
    "   try:\n",
    "       \n",
    "       values = str(value)\n",
    "       hold = values[-2]\n",
    "       if (hold in define) and (val in define):\n",
    "           secLast = values[-2:-1]\n",
    "           Last = values[-1]\n",
    "           temp = values.replace(secLast,Last)\n",
    "           value = temp[:-1]\n",
    "           \n",
    "       else:\n",
    "           value = value\n",
    "       \n",
    "   except:\n",
    "       value = value\n",
    "   display.config(text=value)\n"
   ]
  },
  {
   "cell_type": "code",
   "execution_count": 5,
   "metadata": {},
   "outputs": [],
   "source": [
    "def delete():\n",
    "    global value\n",
    "    value=\"\"\n",
    "    display.config(text=value)"
   ]
  },
  {
   "cell_type": "code",
   "execution_count": 6,
   "metadata": {},
   "outputs": [],
   "source": [
    "def showResult():\n",
    "    global value\n",
    "    res = \"\"\n",
    "    if value!=\"\":\n",
    "        try:\n",
    "            result = eval(value)\n",
    "                \n",
    "        except:\n",
    "            result = \"\"\n",
    "            value = \" \"\n",
    "    display.config(text=result)\n",
    "           \n",
    "           "
   ]
  },
  {
   "cell_type": "code",
   "execution_count": 7,
   "metadata": {},
   "outputs": [],
   "source": [
    "btnC = Button(calc, height=1,width=5, text=\"C\", bg=\"#EC8C1C\", fg=\"white\", font=(\"arial\",25,\"bold\"), bd=1, command=lambda: delete())\n",
    "btnC.place(x=10,y=100)\n",
    "btn1 = Button(calc, height=1,width=5, text=\"/\",bg=\"#EC8C1C\", fg=\"white\", font=(\"arial\",25,\"bold\"), bd=1, command=lambda: showInput(\"/\"))\n",
    "btn1.place(x=130,y=100)\n",
    "btnMult = Button(calc, height=1,width=5, text=\"*\",bg=\"#EC8C1C\", fg=\"white\", font=(\"arial\",25,\"bold\"), bd=1, command=lambda:showInput(\"*\"))\n",
    "btnMult.place(x=250,y=100)\n",
    "btnMIN=Button(calc, height=1,width=5, text=\"-\",bg=\"#EC8C1C\", fg=\"white\", font=(\"arial\",25,\"bold\"), bd=1, command=lambda:showInput(\"-\"))\n",
    "btnMIN.place(x=370,y=100)\n",
    "\n",
    "#2nd row\n",
    "btn7 = Button(calc, height=1,width=5, text=\"7\", bg=\"#85B099\", fg=\"white\",font=(\"arial\",25,\"bold\"), bd=1, command=lambda:showInput(\"7\"))\n",
    "btn7.place(x=10,y=180)\n",
    "btn8=Button(calc, height=1,width=5, text=\"8\",bg=\"#85B099\", fg=\"white\", font=(\"arial\",25,\"bold\"), bd=1, command=lambda:showInput(\"8\"))\n",
    "btn8.place(x=130,y=180)\n",
    "btn9 = Button(calc, height=1,width=5, text=\"9\",bg=\"#85B099\", fg=\"white\", font=(\"arial\",25,\"bold\"), bd=1, command=lambda:showInput(\"9\"))\n",
    "btn9.place(x=250,y=180)\n",
    "btnPlus = Button(calc, height=3,width=5, text=\"+\",bg=\"#EC8C1C\", fg=\"white\", font=(\"arial\",25,\"bold\"), bd=1, command=lambda:showInput(\"+\"))\n",
    "btnPlus.place(x=370,y=180)\n",
    "\n",
    "#3rd row\n",
    "btn4 = Button(calc, height=1,width=5, text=\"4\",bg=\"#85B099\", fg=\"white\", font=(\"arial\",25,\"bold\"), bd=1, command=lambda:showInput(\"4\"))\n",
    "btn4.place(x=10,y=260)\n",
    "btn5=Button(calc, height=1,width=5, text=\"5\",bg=\"#85B099\", fg=\"white\", font=(\"arial\",25,\"bold\"), bd=1, command=lambda:showInput(\"5\"))\n",
    "btn5.place(x=130,y=260)\n",
    "btn6=Button(calc, height=1,width=5, text=\"6\",bg=\"#85B099\", fg=\"white\", font=(\"arial\",25,\"bold\"), bd=1, command=lambda:showInput(\"6\"))\n",
    "btn6.place(x=250,y=260)\n",
    "btnEqual = Button(calc, height=3,width=5, text=\"=\",bg=\"#EC8C1C\", fg=\"white\", font=(\"arial\",25,\"bold\"), bd=1, command=lambda:showResult())\n",
    "btnEqual.place(x=370,y=340)\n",
    "\n",
    "#4th row\n",
    "btn1 = Button(calc, height=1,width=5, text=\"1\",bg=\"#85B099\", fg=\"white\", font=(\"arial\",25,\"bold\"), bd=1, command=lambda:showInput(\"1\"))\n",
    "btn1.place(x=10,y=340)\n",
    "btn2 = Button(calc, height=1,width=5, text=\"2\",bg=\"#85B099\", fg=\"white\", font=(\"arial\",25,\"bold\"), bd=1, command=lambda:showInput(\"2\"))\n",
    "btn2.place(x=130,y=340)\n",
    "btn3 = Button(calc, height=1,width=5, text=\"3\",bg=\"#85B099\", fg=\"white\", font=(\"arial\",25,\"bold\"), bd=1, command=lambda:showInput(\"3\"))\n",
    "btn3.place(x=250,y=340)\n",
    "\n",
    "btn0 = Button(calc, height=1,width=11, text=\"0\",bg=\"#85B099\", fg=\"white\", font=(\"arial\",25,\"bold\"), bd=1, command=lambda:showInput(\"0\"))\n",
    "btn0.place(x=10,y=420)\n",
    "btnDeci = Button(calc, height=1,width=5, text=\".\",bg=\"#85B099\", fg=\"white\", font=(\"arial\",25,\"bold\"), bd=1, command=lambda:showInput(\".\"))\n",
    "btnDeci.place(x=250,y=420)\n",
    "\n",
    "\n",
    "calc.mainloop()"
   ]
  },
  {
   "cell_type": "code",
   "execution_count": null,
   "metadata": {},
   "outputs": [],
   "source": []
  },
  {
   "cell_type": "code",
   "execution_count": null,
   "metadata": {},
   "outputs": [],
   "source": []
  }
 ],
 "metadata": {
  "kernelspec": {
   "display_name": "Python 3",
   "language": "python",
   "name": "python3"
  },
  "language_info": {
   "codemirror_mode": {
    "name": "ipython",
    "version": 3
   },
   "file_extension": ".py",
   "mimetype": "text/x-python",
   "name": "python",
   "nbconvert_exporter": "python",
   "pygments_lexer": "ipython3",
   "version": "3.11.4"
  },
  "orig_nbformat": 4
 },
 "nbformat": 4,
 "nbformat_minor": 2
}
